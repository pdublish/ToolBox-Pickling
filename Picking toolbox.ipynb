{
 "cells": [
  {
   "cell_type": "markdown",
   "metadata": {},
   "source": [
    "# Picking Toolbox by Prabha Dublish"
   ]
  },
  {
   "cell_type": "code",
   "execution_count": 1,
   "metadata": {
    "collapsed": false
   },
   "outputs": [
    {
     "name": "stdout",
     "output_type": "stream",
     "text": [
      "1\n"
     ]
    }
   ],
   "source": [
    "import os\n",
    "import pickle\n",
    "from os.path import exists\n",
    "import sys\n",
    "from pickle import dump, load\n",
    "\n",
    "def update_counter(filename, reset):\n",
    "    if os.path.exists(filename) is False or reset is True:\n",
    "        f=open(filename,'w')\n",
    "        f.seek(0,0)\n",
    "        counter=0\n",
    "        print counter\n",
    "        pickle.dump(counter,f)\n",
    "    elif os.path.exists(filename) is True or reset is False:\n",
    "        f=open(filename,'r+')\n",
    "        f.seek(0,0)\n",
    "        filecounter=pickle.load(f)\n",
    "        counter=filecounter+1\n",
    "        print counter\n",
    "        pickle.dump(counter,f)\n",
    "    f.close()\n",
    "    \n",
    "update_counter('blah.txt',False)"
   ]
  },
  {
   "cell_type": "code",
   "execution_count": null,
   "metadata": {
    "collapsed": true
   },
   "outputs": [],
   "source": []
  }
 ],
 "metadata": {
  "kernelspec": {
   "display_name": "Python 2",
   "language": "python",
   "name": "python2"
  },
  "language_info": {
   "codemirror_mode": {
    "name": "ipython",
    "version": 2
   },
   "file_extension": ".py",
   "mimetype": "text/x-python",
   "name": "python",
   "nbconvert_exporter": "python",
   "pygments_lexer": "ipython2",
   "version": "2.7.12"
  }
 },
 "nbformat": 4,
 "nbformat_minor": 1
}
